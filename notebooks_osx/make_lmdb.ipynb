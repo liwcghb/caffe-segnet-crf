{
 "cells": [
  {
   "cell_type": "code",
   "execution_count": 1,
   "metadata": {
    "collapsed": true
   },
   "outputs": [],
   "source": [
    "import sys\n",
    "import os\n",
    "import glob\n",
    "import shutil\n",
    "import numpy as np\n",
    "import cv2\n",
    "import lmdb\n",
    "import random\n",
    "\n",
    "from matplotlib import pyplot as plt\n",
    "%matplotlib inline"
   ]
  },
  {
   "cell_type": "code",
   "execution_count": 2,
   "metadata": {
    "collapsed": false
   },
   "outputs": [],
   "source": [
    "sys.path.insert(0, '/Users/nathaning/software/caffe-segnet-crf/python')\n",
    "import caffe\n",
    "from caffe.proto import caffe_pb2"
   ]
  },
  {
   "cell_type": "markdown",
   "metadata": {},
   "source": [
    "# Random crops"
   ]
  },
  {
   "cell_type": "code",
   "execution_count": 122,
   "metadata": {
    "collapsed": false,
    "scrolled": false
   },
   "outputs": [
    {
     "name": "stdout",
     "output_type": "stream",
     "text": [
      "Found 224 images in /Users/nathaning/databases/pca/original_feature\n",
      "Found 224 images in /Users/nathaning/databases/pca/original_annotation\n",
      "1201 1201\n",
      "0000030\n",
      "0000060\n",
      "0000090\n",
      "0000120\n",
      "0000150\n",
      "0000180\n",
      "added 200 files to /Users/nathaning/databases/pca/feature_lmdb\n",
      "0000030\n",
      "0000060\n",
      "0000090\n",
      "0000120\n",
      "0000150\n",
      "0000180\n",
      "added 200 files to /Users/nathaning/databases/pca/mask_lmdb\n",
      "0000003\n",
      "0000006\n",
      "0000009\n",
      "0000012\n",
      "0000015\n",
      "0000018\n",
      "0000021\n",
      "added 22 files to /Users/nathaning/databases/pca/feature_test_lmdb\n",
      "0000003\n",
      "0000006\n",
      "0000009\n",
      "0000012\n",
      "0000015\n",
      "0000018\n",
      "0000021\n",
      "added 22 files to /Users/nathaning/databases/pca/mask_test_lmdb\n",
      "done\n"
     ]
    }
   ],
   "source": [
    "image_source = '/Users/nathaning/databases/pca/original_feature'\n",
    "mask_source = '/Users/nathaning/databases/pca/original_annotation'\n",
    "\n",
    "img_list = sorted(glob.glob(\n",
    "    os.path.join(image_source, '*.jpg')\n",
    "))\n",
    "\n",
    "mask_list = sorted(glob.glob(\n",
    "    os.path.join(mask_source, '*.png')\n",
    "))\n",
    "\n",
    "c = zip(img_list, mask_list)\n",
    "random.shuffle(c)\n",
    "img_list, mask_list = zip(*c)\n",
    "\n",
    "print 'Found {} images in {}'.format(len(img_list), image_source)\n",
    "print 'Found {} images in {}'.format(len(mask_list), mask_source)\n",
    "\n",
    "sampleimg = cv2.imread(img_list[0])\n",
    "h,w = sampleimg.shape[:2]\n",
    "print h,w\n",
    "\n",
    "winwrite = 128\n",
    "\n",
    "# winsize = 256\n",
    "# scale = 2\n",
    "# winwrite = winsize / scale\n",
    "# n = 10\n",
    "# r = lambda: np.random.randint(h-winsize)\n",
    "# coords = [[(r(), r()) for _ in range(n)] for _ in img_list]\n",
    "\n",
    "\n",
    "'''\n",
    "Create an lmdb database of images\n",
    "\n",
    "'''\n",
    "image_train_db = '/Users/nathaning/databases/pca/feature_lmdb'\n",
    "mask_train_db = '/Users/nathaning/databases/pca/mask_lmdb'\n",
    "image_test_db = '/Users/nathaning/databases/pca/feature_test_lmdb'\n",
    "mask_test_db = '/Users/nathaning/databases/pca/mask_test_lmdb'\n",
    "debug_dir = '/Users/nathaning/databases/pca/debug'\n",
    "\n",
    "if os.path.exists(image_db): shutil.rmtree(image_db)\n",
    "if os.path.exists(mask_db): shutil.rmtree(mask_db)\n",
    "\n",
    "ntrain = int(len(img_list) * 0.9)\n",
    "safety = 10\n",
    "est_total = sampleimg.nbytes * len(img_list) * safety\n",
    "\n",
    "'''\n",
    "Do the Train Feature DB write\n",
    "'''\n",
    "env = lmdb.open(image_train_db, map_size=est_total)\n",
    "index = 1\n",
    "with env.begin(write=True) as txn:\n",
    "    for k, img_name in enumerate(img_list[:ntrain]):\n",
    "        img = cv2.imread(img_name)\n",
    "\n",
    "        #         for box in crops:\n",
    "#         x = box[0]\n",
    "#         y = box[1]\n",
    "        #         subimg_ = img[x:x+winsize, y:y+winsize, :]\n",
    "        subimg_ = cv2.resize(img, dsize=(winwrite, winwrite),\n",
    "                            interpolation=cv2.INTER_CUBIC)\n",
    "\n",
    "        # From BVLC/caffe/issues/1698\n",
    "        subimg = subimg_[:,:,::-1]\n",
    "        subimg = subimg.transpose((2,0,1))\n",
    "\n",
    "        datum = caffe.io.array_to_datum(subimg)\n",
    "        str_id = '{:07}'.format(index)\n",
    "\n",
    "        txn.put(str_id.encode('ascii'), datum.SerializeToString())\n",
    "        if index % 30 == 0:\n",
    "            print str_id\n",
    "            cv2.imwrite(os.path.join(debug_dir, '{}.png'.format(str_id)), subimg_)\n",
    "\n",
    "        index += 1\n",
    "        \n",
    "print 'added {} files to {}'.format(k, image_train_db)            \n",
    "env.close()\n",
    "\n",
    "'''\n",
    "Do the Train Mask DB write\n",
    "'''\n",
    "env = lmdb.open(mask_train_db, map_size=est_total)\n",
    "index = 1\n",
    "with env.begin(write=True) as txn:\n",
    "    for k, img_name in enumerate(mask_list[:ntrain]):\n",
    "        img = cv2.imread(img_name, 0)\n",
    "        img_ = np.copy(img)\n",
    "        img_[img==0]=0\n",
    "        img_[img==1]=0\n",
    "        img_[img==2]=0\n",
    "        img_[img==3]=1\n",
    "        \n",
    "        #         img = img > 0\n",
    "        #         img.dtype = np.uint8\n",
    "\n",
    "        #         for box in crops:\n",
    "#         x = box[0]\n",
    "#         y = box[1]\n",
    "        #         subimg_ = img[x:x+winsize, y:y+winsize]\n",
    "        subimg_ = cv2.resize(img_, dsize=(winwrite, winwrite),\n",
    "                             interpolation=cv2.INTER_NEAREST)\n",
    "        subimg = np.expand_dims(subimg_, 0)\n",
    "\n",
    "        datum = caffe.io.array_to_datum(subimg)\n",
    "        str_id = '{:07}'.format(index)\n",
    "\n",
    "        txn.put(str_id.encode('ascii'), datum.SerializeToString())\n",
    "        if index % 30 == 0:\n",
    "            print str_id\n",
    "            cv2.imwrite(os.path.join(debug_dir, '{}_.png'.format(str_id)), \n",
    "                        subimg_*(255/subimg_.max()) )\n",
    "\n",
    "        index += 1\n",
    "        \n",
    "        \n",
    "print 'added {} files to {}'.format(k, mask_train_db)\n",
    "env.close()\n",
    "\n",
    "\n",
    "'''\n",
    "Do the Test Feature DB write\n",
    "'''\n",
    "env = lmdb.open(image_test_db, map_size=est_total)\n",
    "index = 1\n",
    "with env.begin(write=True) as txn:\n",
    "    for k, img_name in enumerate(img_list[ntrain:]):\n",
    "        img = cv2.imread(img_name)\n",
    "\n",
    "        #         for box in crops:\n",
    "#         x = box[0]\n",
    "#         y = box[1]\n",
    "        #         subimg_ = img[x:x+winsize, y:y+winsize, :]\n",
    "        subimg_ = cv2.resize(img, dsize=(winwrite, winwrite),\n",
    "                            interpolation=cv2.INTER_CUBIC)\n",
    "\n",
    "        # From BVLC/caffe/issues/1698\n",
    "        subimg = subimg_[:,:,::-1]\n",
    "        subimg = subimg.transpose((2,0,1))\n",
    "\n",
    "        datum = caffe.io.array_to_datum(subimg)\n",
    "        str_id = '{:07}'.format(index)\n",
    "\n",
    "        txn.put(str_id.encode('ascii'), datum.SerializeToString())\n",
    "        if index % 3 == 0:\n",
    "            print str_id\n",
    "            cv2.imwrite(os.path.join(debug_dir, '{}.png'.format(str_id)), subimg_)\n",
    "\n",
    "        index += 1\n",
    "        \n",
    "print 'added {} files to {}'.format(k, image_test_db)            \n",
    "env.close()\n",
    "\n",
    "'''\n",
    "Do the Test Mask DB write\n",
    "'''\n",
    "env = lmdb.open(mask_test_db, map_size=est_total)\n",
    "index = 1\n",
    "with env.begin(write=True) as txn:\n",
    "    for k, img_name in enumerate(mask_list[ntrain:]):\n",
    "        img = cv2.imread(img_name, 0)\n",
    "        img_ = np.copy(img)\n",
    "        img_[img==0]=0\n",
    "        img_[img==1]=0\n",
    "        img_[img==2]=0\n",
    "        img_[img==3]=1\n",
    "        \n",
    "        #         img = img > 0\n",
    "        #         img.dtype = np.uint8\n",
    "\n",
    "        #         for box in crops:\n",
    "#         x = box[0]\n",
    "#         y = box[1]\n",
    "        #         subimg_ = img[x:x+winsize, y:y+winsize]\n",
    "        subimg_ = cv2.resize(img_, dsize=(winwrite, winwrite),\n",
    "                             interpolation=cv2.INTER_NEAREST)\n",
    "        subimg = np.expand_dims(subimg_, 0)\n",
    "\n",
    "        datum = caffe.io.array_to_datum(subimg)\n",
    "        str_id = '{:07}'.format(index)\n",
    "\n",
    "        txn.put(str_id.encode('ascii'), datum.SerializeToString())\n",
    "        if index % 3 == 0:\n",
    "            print str_id\n",
    "            cv2.imwrite(os.path.join(debug_dir, '{}_.png'.format(str_id)), \n",
    "                        subimg_*(255/subimg_.max()) )\n",
    "\n",
    "        index += 1\n",
    "        \n",
    "        \n",
    "print 'added {} files to {}'.format(k, mask_test_db)\n",
    "env.close()\n",
    "print 'done'"
   ]
  },
  {
   "cell_type": "code",
   "execution_count": 107,
   "metadata": {
    "collapsed": false
   },
   "outputs": [
    {
     "name": "stdout",
     "output_type": "stream",
     "text": [
      "[  0  38  75 113]\n",
      "uint8\n"
     ]
    },
    {
     "data": {
      "text/plain": [
       "<matplotlib.colorbar.Colorbar at 0x15a07fe50>"
      ]
     },
     "execution_count": 107,
     "metadata": {},
     "output_type": "execute_result"
    },
    {
     "data": {
      "image/png": "[encoded data removed]",
      "text/plain": [
       "<matplotlib.figure.Figure at 0x15a9b77d0>"
      ]
     },
     "metadata": {},
     "output_type": "display_data"
    }
   ],
   "source": [
    "img = cv2.imread(mask_list[np.random.randint(224)], 0)\n",
    "print np.unique(img)\n",
    "print img.dtype\n",
    "plt.matshow(img); plt.colorbar()"
   ]
  },
  {
   "cell_type": "code",
   "execution_count": null,
   "metadata": {
    "collapsed": true
   },
   "outputs": [],
   "source": [
    "labeldict = {0: 0, 38: 1, 75: 2, 113: 3}"
   ]
  },
  {
   "cell_type": "code",
   "execution_count": 113,
   "metadata": {
    "collapsed": false
   },
   "outputs": [
    {
     "name": "stdout",
     "output_type": "stream",
     "text": [
      "[0 3]\n",
      "uint8\n"
     ]
    },
    {
     "data": {
      "text/plain": [
       "<matplotlib.colorbar.Colorbar at 0x15ada2550>"
      ]
     },
     "execution_count": 113,
     "metadata": {},
     "output_type": "execute_result"
    },
    {
     "data": {
      "image/png": "[encoded data removed]",
      "text/plain": [
       "<matplotlib.figure.Figure at 0x15ac3b990>"
      ]
     },
     "metadata": {},
     "output_type": "display_data"
    }
   ],
   "source": [
    "og_mask = '/Users/nathaning/databases/pca/original_annotation'\n",
    "og_list = sorted(glob.glob(os.path.join(og_mask, '*.png')))\n",
    "\n",
    "img = cv2.imread(og_list[np.random.randint(100)], 0)\n",
    "print np.unique(img)\n",
    "print img.dtype\n",
    "plt.matshow(img); plt.colorbar()"
   ]
  },
  {
   "cell_type": "code",
   "execution_count": 4,
   "metadata": {
    "collapsed": false
   },
   "outputs": [
    {
     "name": "stdout",
     "output_type": "stream",
     "text": [
      "/Users/nathaning/databases/pca/seg_0.1/feat/test224sc.jpg /Users/nathaning/databases/pca/seg_0.1/anno/test224sc.png\n"
     ]
    }
   ],
   "source": [
    "image_source = '/Users/nathaning/databases/pca/seg_0.1/feat'\n",
    "mask_source = '/Users/nathaning/databases/pca/seg_0.1/anno'\n",
    "\n",
    "img_list = sorted(glob.glob(\n",
    "    os.path.join(image_source, '*.jpg')\n",
    "))\n",
    "\n",
    "mask_list = sorted(glob.glob(\n",
    "    os.path.join(mask_source, '*.png')\n",
    "))\n",
    "\n",
    "c = zip(img_list, mask_list)\n",
    "random.shuffle(c)\n",
    "img_list, mask_list = zip(*c)\n",
    "\n",
    "print img_list[0], mask_list[0]\n"
   ]
  },
  {
   "cell_type": "markdown",
   "metadata": {},
   "source": [
    "## If necessary do copy first"
   ]
  },
  {
   "cell_type": "code",
   "execution_count": 123,
   "metadata": {
    "collapsed": false
   },
   "outputs": [
    {
     "name": "stdout",
     "output_type": "stream",
     "text": [
      "/home/nathan/mzmo/data/nuclei/nuclei_seg_0.1/M1ADT_1_original/SP 02-4466 L3_001(5+5)_1_2.tif\n",
      "/home/nathan/mzmo/data/nuclei/nuclei_seg_0.1/_feature/SP 04-1514 1 L3_001(3+4)_2_4.tif\n",
      "/home/nathan/mzmo/data/nuclei/nuclei_seg_0.1/M1ADT_1/SP 02-4466 L3_001(5+5)_1_2.tif_mask.png\n",
      "/home/nathan/mzmo/data/nuclei/nuclei_seg_0.1/M1ADT_1/SP 02-4466 L3_001(5+5)_1_2.tif_Lmask.png\n",
      "Done copying originals\n",
      "Done copying outlines\n",
      "Done copying masks\n",
      "Done copying labels\n"
     ]
    }
   ],
   "source": [
    "src = '/home/nathan/mzmo/data/nuclei/nuclei_seg_0.1/M1ADT_1'\n",
    "feature = '/home/nathan/mzmo/data/nuclei/nuclei_seg_0.1/M1ADT_1_original'\n",
    "\n",
    "feature_dest = '/home/nathan/mzmo/data/nuclei/nuclei_seg_0.1/_feature_test'\n",
    "outline_dest = '/home/nathan/mzmo/data/nuclei/nuclei_seg_0.1/_outline_test'\n",
    "mask_dest = '/home/nathan/mzmo/data/nuclei/nuclei_seg_0.1/_mask_test'\n",
    "label_dest = '/home/nathan/mzmo/data/nuclei/nuclei_seg_0.1/_label_test'\n",
    "\n",
    "src_list = sorted(glob.glob(\n",
    "    os.path.join(src, '*.png')\n",
    "))\n",
    "\n",
    "feature_list = sorted(glob.glob(\n",
    "    os.path.join(feature, '*.tif')\n",
    "))\n",
    "\n",
    "outline_list = [img for img in src_list if 'tif.png' in img]\n",
    "mask_list = [img for img in src_list if '_mask' in img]\n",
    "label_list = [img for img in src_list if 'Lmask' in img]\n",
    "\n",
    "print feature_list[0]\n",
    "print img_list[0]\n",
    "print mask_list[0]\n",
    "print label_list[0]\n",
    "\n",
    "rep = lambda x: os.path.join(feature_dest, os.path.basename(x))\n",
    "_ = [shutil.copyfile(img, rep(img)) for img in feature_list]\n",
    "print 'Done copying originals'\n",
    "\n",
    "rep = lambda x: os.path.join(outline_dest, os.path.basename(x.replace('.tif', '')))\n",
    "_ = [shutil.copyfile(img, rep(img)) for img in img_list]\n",
    "print 'Done copying outlines'\n",
    "\n",
    "rep = lambda x: os.path.join(mask_dest, os.path.basename(x.replace('.tif_mask', '')))\n",
    "_ = [shutil.copyfile(img, rep(img)) for img in mask_list]\n",
    "print 'Done copying masks'\n",
    "\n",
    "rep = lambda x: os.path.join(label_dest, os.path.basename(x.replace('.tif_Lmask', '')))\n",
    "_ = [shutil.copyfile(img, rep(img)) for img in label_list]\n",
    "print 'Done copying labels'"
   ]
  },
  {
   "cell_type": "code",
   "execution_count": null,
   "metadata": {
    "collapsed": true
   },
   "outputs": [],
   "source": []
  }
 ],
 "metadata": {
  "kernelspec": {
   "display_name": "caffe",
   "language": "python",
   "name": "caffe"
  },
  "language_info": {
   "codemirror_mode": {
    "name": "ipython",
    "version": 2
   },
   "file_extension": ".py",
   "mimetype": "text/x-python",
   "name": "python",
   "nbconvert_exporter": "python",
   "pygments_lexer": "ipython2",
   "version": "2.7.13"
  }
 },
 "nbformat": 4,
 "nbformat_minor": 2
}
